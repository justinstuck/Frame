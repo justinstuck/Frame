{
 "cells": [
  {
   "cell_type": "markdown",
   "metadata": {},
   "source": [
    "# Exploratory Analysis for Frame"
   ]
  },
  {
   "cell_type": "code",
   "execution_count": 4,
   "metadata": {
    "collapsed": true
   },
   "outputs": [],
   "source": [
    "%matplotlib inline\n",
    "from StringIO import StringIO\n",
    "from requests import get\n",
    "import pandas\n",
    "import matplotlib.pyplot as plt\n",
    "from sklearn.linear_model import LogisticRegression\n",
    "from sklearn.cross_validation import train_test_split\n",
    "from sklearn.preprocessing import StandardScaler\n",
    "from sklearn.pipeline import Pipeline\n",
    "from sklearn.metrics import accuracy_score, classification_report, confusion_matrix\n",
    "from sklearn.decomposition import PCA\n",
    "import numpy as np\n",
    "\n",
    "class FrameClassifier():\n",
    "    def __init__(self):\n",
    "        self.features = ['latency', 'bandwidth', 'framerate']    \n",
    "        #self.features = ['latency', 'bandwidth']    \n",
    "\n",
    "    def get_data(self,csv=None):\n",
    "        uri = 'http://ds/api/warehouse/all-the-frame-metrics-by-step?fmt=csv'\n",
    "        resp = get(uri)\n",
    "        self.respondents = pandas.read_csv(StringIO(resp.text))        \n",
    "        self.respondents = self.respondents[self.respondents.name == 'Unity Frame Shopping']\n",
    "        X, y = self.respondents[self.features], self.respondents.iscomplete\n",
    "        #self.respondents['latency'] =self.respondents['latency'].apply(lambda x: math.log(x+.000000000000000000000001))\n",
    "        #self.respondents['bandwidth'] = self.respondents['bandwidth'].apply(lambda x: math.log(x+.000000000000000000000001))\n",
    "        self.X_train, self.X_test, self.y_train, self.y_test = train_test_split(X,y,test_size=0.05,random_state=0)\n",
    "\n",
    "        sc = StandardScaler()\n",
    "        sc.fit(self.X_train)\n",
    "        self.X_train_std = sc.transform(self.X_train)\n",
    "        self.X_test_std = sc.transform(self.X_test)\n",
    "        \n",
    "    def do_PCA(self):\n",
    "        pca = PCA(n_components=None)\n",
    "        self.X_train_pca = pca.fit_transform(self.X_train_std)\n",
    "        self.X_test_pca = pca.transform(self.X_test_std)\n",
    "\n",
    "        self.weights = dict(zip(self.features,pca.explained_variance_ratio_))\n",
    "        print \"Principle Components:\"\n",
    "        for pc in self.weights:\n",
    "            print pc, self.weights[pc]    \n",
    "\n",
    "\n",
    "    def basic(self):\n",
    "        self.do_PCA()\n",
    "        lr = LogisticRegression(C=1)\n",
    "        lr = lr.fit(self.X_train_pca, self.y_train)\n",
    "        self.y_pred = lr.predict(self.X_test_pca)\n",
    "        print('Misclassified samples: %d' % (self.y_test != self.y_pred).sum())\n",
    "        print('Accuracy: %.2f' % accuracy_score(self.y_test, self.y_pred))\n",
    "        print classification_report(self.y_test, self.y_pred)        \n",
    "        print confusion_matrix(self.y_test, self.y_pred)\n",
    "        print lr.get_params"
   ]
  },
  {
   "cell_type": "code",
   "execution_count": 2,
   "metadata": {
    "collapsed": true
   },
   "outputs": [],
   "source": [
    "def plot_confusion_matrix(cm, title='Confusion matrix', cmap=plt.cm.Blues):\n",
    "    fig = plt.figure()\n",
    "    plt.imshow(cm, interpolation='nearest', cmap=cmap)\n",
    "    plt.title(title)\n",
    "    plt.colorbar()\n",
    "    tick_marks = np.arange(2)\n",
    "    plt.xticks(tick_marks, ['Not Complete', 'Complete'], rotation=45)\n",
    "    plt.yticks(tick_marks, ['Not Complete', 'Complete'])\n",
    "    plt.tight_layout()\n",
    "    plt.ylabel('True label')\n",
    "    plt.xlabel('Predicted label')\n",
    "    plt.show()"
   ]
  },
  {
   "cell_type": "code",
   "execution_count": 5,
   "metadata": {
    "collapsed": false
   },
   "outputs": [
    {
     "name": "stdout",
     "output_type": "stream",
     "text": [
      "Principle Components:\n",
      "latency 0.629866936694\n",
      "bandwidth 0.240117247083\n",
      "framerate 0.130015816223\n",
      "Misclassified samples: 21\n",
      "Accuracy: 0.92\n",
      "             precision    recall  f1-score   support\n",
      "\n",
      "      False       0.00      0.00      0.00        21\n",
      "       True       0.92      1.00      0.96       244\n",
      "\n",
      "avg / total       0.85      0.92      0.88       265\n",
      "\n",
      "[[  0  21]\n",
      " [  0 244]]\n",
      "<bound method LogisticRegression.get_params of LogisticRegression(C=1, class_weight=None, dual=False, fit_intercept=True,\n",
      "          intercept_scaling=1, max_iter=100, multi_class='ovr', n_jobs=1,\n",
      "          penalty='l2', random_state=None, solver='liblinear', tol=0.0001,\n",
      "          verbose=0, warm_start=False)>\n"
     ]
    },
    {
     "data": {
      "image/png": "[encoded data removed]",
      "text/plain": [
       "<matplotlib.figure.Figure at 0x3e24208>"
      ]
     },
     "metadata": {},
     "output_type": "display_data"
    },
    {
     "name": "stdout",
     "output_type": "stream",
     "text": [
      "Test Accuracy: 0.921\n"
     ]
    }
   ],
   "source": [
    "fc = FrameClassifier()\n",
    "fc.get_data()\n",
    "\n",
    "a = fc.respondents\n",
    "fc.basic()\n",
    "cm = confusion_matrix(fc.y_test, fc.y_pred)\n",
    "plot_confusion_matrix(cm)\n",
    "pipe_lr = Pipeline([('scl', StandardScaler()),\n",
    "            ('pca', PCA(n_components=len(fc.features))),\n",
    "            ('clf', LogisticRegression(random_state=1))])\n",
    "\n",
    "pipe_lr.fit(fc.X_train_std, fc.y_train)\n",
    "print('Test Accuracy: %.3f' % pipe_lr.score(fc.X_test_std, fc.y_test))"
   ]
  }
 ],
 "metadata": {
  "kernelspec": {
   "display_name": "Python 2",
   "language": "python",
   "name": "python2"
  },
  "language_info": {
   "codemirror_mode": {
    "name": "ipython",
    "version": 2
   },
   "file_extension": ".py",
   "mimetype": "text/x-python",
   "name": "python",
   "nbconvert_exporter": "python",
   "pygments_lexer": "ipython2",
   "version": "2.7.11"
  }
 },
 "nbformat": 4,
 "nbformat_minor": 0
}
